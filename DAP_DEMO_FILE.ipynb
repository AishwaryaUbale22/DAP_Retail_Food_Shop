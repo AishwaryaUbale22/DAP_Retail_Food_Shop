{
 "cells": [
  {
   "cell_type": "markdown",
   "id": "e2627696",
   "metadata": {},
   "source": [
    "## DEMO FILE "
   ]
  },
  {
   "cell_type": "code",
   "execution_count": 2,
   "id": "cc003e15",
   "metadata": {},
   "outputs": [
    {
     "name": "stdout",
     "output_type": "stream",
     "text": [
      "Testing the git env\n"
     ]
    }
   ],
   "source": [
    "print(\"Testing the git env\")"
   ]
  }
 ],
 "metadata": {
  "kernelspec": {
   "display_name": "Python 3 (ipykernel)",
   "language": "python",
   "name": "python3"
  },
  "language_info": {
   "codemirror_mode": {
    "name": "ipython",
    "version": 3
   },
   "file_extension": ".py",
   "mimetype": "text/x-python",
   "name": "python",
   "nbconvert_exporter": "python",
   "pygments_lexer": "ipython3",
   "version": "3.9.13"
  }
 },
 "nbformat": 4,
 "nbformat_minor": 5
}

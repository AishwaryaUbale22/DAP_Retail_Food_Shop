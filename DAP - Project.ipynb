{
 "cells": [
  {
   "cell_type": "markdown",
   "id": "3828ab76",
   "metadata": {},
   "source": [
    "# Retail food store data"
   ]
  },
  {
   "cell_type": "code",
   "execution_count": 1,
   "id": "e5860a9c",
   "metadata": {},
   "outputs": [
    {
     "name": "stdout",
     "output_type": "stream",
     "text": [
      "       view  temp                   0                                     1  \\\n",
      "0       NaN     1  row-656w.xr9g-izkp  00000000-0000-0000-830A-FB544A42623C   \n",
      "1       NaN     1  row-sip5~swjf.mic4  00000000-0000-0000-1D72-DEFD8206793E   \n",
      "2       NaN     1  row-h2ap-c7pr_kkgm  00000000-0000-0000-87EC-56223CC693F4   \n",
      "3       NaN     1  row-ut8p_acga_u6xi  00000000-0000-0000-2B14-8A8858FE407B   \n",
      "4       NaN     1  row-6ytw~jem2.4fnp  00000000-0000-0000-BDB9-7D5D5C295FDF   \n",
      "...     ...   ...                 ...                                   ...   \n",
      "28515   NaN     1  row-v9cd-gbc6.6u3b  00000000-0000-0000-698E-B98F201A4CB5   \n",
      "28516   NaN     1  row-eizm.b2mt~yi3g  00000000-0000-0000-9CD9-EFBC6C615B05   \n",
      "28517   NaN     1  row-ditr-fpqg-nayr  00000000-0000-0000-E01E-5F5CFE3BBE69   \n",
      "28518   NaN     1  row-i766-7r6j-tuki  00000000-0000-0000-30C0-8088F99C64A1   \n",
      "28519   NaN     1  row-uuzr~e7ps~79md  00000000-0000-0000-BD04-EC6A3A14BF2F   \n",
      "\n",
      "       2           3     4           5     6    7  ...      14             15  \\\n",
      "0      0  1676315083  None  1676315089  None  { }  ...   2712B  E RETMONT AVE   \n",
      "1      0  1676315083  None  1676315089  None  { }  ...     336     E 167TH ST   \n",
      "2      0  1676315083  None  1676315089  None  { }  ...     756      UNION AVE   \n",
      "3      0  1676315083  None  1676315089  None  { }  ...   689NE      1187TH ST   \n",
      "4      0  1676315083  None  1676315089  None  { }  ...    2962  JEROME AVENUE   \n",
      "...   ..         ...   ...         ...   ...  ...  ...     ...            ...   \n",
      "28515  0  1676315083  None  1676315092  None  { }  ...  5754-A         RT 209   \n",
      "28516  0  1676315083  None  1676315092  None  { }  ...     819    MAIN STREET   \n",
      "28517  0  1676315083  None  1676315092  None  { }  ...     241      UNION AVE   \n",
      "28518  0  1676315083  None  1676315092  None  { }  ...      25  WATERFRONT PL   \n",
      "28519  0  1676315083  None  1676315092  None  { }  ...     118        MAIN ST   \n",
      "\n",
      "         16    17            18  19     20    21                          22  \\\n",
      "0      None  None         BRONX  NY  10461     0                        None   \n",
      "1      None  None         BRONX  NY  10456   800  POINT (-73.91264 40.83102)   \n",
      "2      None  None         BRONX  NY  10455     0  POINT (-73.90356 40.81776)   \n",
      "3      None  None         BRONX  NY  10458     0                        None   \n",
      "4      None  None         BRONX  NY  10468  1200  POINT (-73.88961 40.87283)   \n",
      "...     ...   ...           ...  ..    ...   ...                         ...   \n",
      "28515  None  None    KERHONKSON  NY  12446  1600  POINT (-74.25845 41.79006)   \n",
      "28516  None  None  NEW ROCHELLE  NY  10801  1500  POINT (-73.79254 40.90158)   \n",
      "28517  None  None  NEW ROCHELLE  NY  10801  1500  POINT (-73.79541 40.90925)   \n",
      "28518  None  None  PORT CHESTER  NY  10573     0  POINT (-73.66357 40.99826)   \n",
      "28519  None  None      TUCKAHOE  NY  10707     0  POINT (-73.82475 40.94937)   \n",
      "\n",
      "         23  \n",
      "0      None  \n",
      "1       307  \n",
      "2       307  \n",
      "3      None  \n",
      "4       307  \n",
      "...     ...  \n",
      "28515   413  \n",
      "28516   960  \n",
      "28517   960  \n",
      "28518   952  \n",
      "28519   975  \n",
      "\n",
      "[28520 rows x 26 columns]\n"
     ]
    }
   ],
   "source": [
    "import json\n",
    "import pandas as pd\n",
    "\n",
    "# load the JSON file as a dictionary\n",
    "with open('retail_food_stores.json', 'r', encoding='utf-8') as file:\n",
    "    data = json.load(file)\n",
    "\n",
    "# extract the metadata and store it in a dataframe\n",
    "metadata = pd.DataFrame(data['meta'], index=[0])\n",
    "\n",
    "metadata['temp'] = 1\n",
    "# extract the data and store it in a dataframe\n",
    "df = pd.DataFrame(data['data'])\n",
    "\n",
    "df['temp'] = 1\n",
    "# merge the metadata dataframe with the data dataframe\n",
    "result = pd.merge(metadata, df, on='temp')\n",
    "\n",
    "# display the resulting dataframe\n",
    "print(result)"
   ]
  },
  {
   "cell_type": "code",
   "execution_count": 2,
   "id": "197b1ff4",
   "metadata": {},
   "outputs": [
    {
     "name": "stdout",
     "output_type": "stream",
     "text": [
      "['view', 'temp', 0, 1, 2, 3, 4, 5, 6, 7, 8, 9, 10, 11, 12, 13, 14, 15, 16, 17, 18, 19, 20, 21, 22, 23]\n"
     ]
    }
   ],
   "source": [
    "column_names = list(result.columns.values)\n",
    "\n",
    "print(column_names)"
   ]
  },
  {
   "cell_type": "code",
   "execution_count": 3,
   "id": "a8824bb8",
   "metadata": {},
   "outputs": [
    {
     "name": "stdout",
     "output_type": "stream",
     "text": [
      "['view', 'temp', 'sid', 'id', 'position', 'created_at', 'created_meta', 'updated_at', 'updated_meta', 'meta_data', 'County', 9, 10, 11, 12, 13, 14, 15, 16, 17, 18, 19, 20, 21, 22, 23]\n"
     ]
    }
   ],
   "source": [
    "# Rename columns\n",
    "result.rename(columns={\n",
    "    'view': 'view',\n",
    "    'temp': 'temp',\n",
    "    0: 'sid',\n",
    "    1: 'id',\n",
    "    2: 'position',\n",
    "    3: 'created_at',\n",
    "    4: 'created_meta',\n",
    "    5:'updated_at',\n",
    "    6:'updated_meta',\n",
    "    7:'meta_data',\n",
    "    8:'County',\n",
    "}, inplace=True)\n",
    "\n",
    "column_names = list(result.columns.values)\n",
    "\n",
    "print(column_names)"
   ]
  },
  {
   "cell_type": "code",
   "execution_count": 4,
   "id": "2846120f",
   "metadata": {},
   "outputs": [
    {
     "name": "stdout",
     "output_type": "stream",
     "text": [
      "['view', 'temp', 'sid', 'id', 'position', 'created_at', 'created_meta', 'updated_at', 'updated_meta', 'meta_data', 'County', 'License_Number', 'Operation_Type', 'Establishment_Type', 'Entity_Name', 'DBA_Name', 'Street_Number', 'Street_Name', 'Address_Line_2', 'Address_Line_3', 'City', 'State', 'Zip_Code', 'Square_Footage', 'Georeference', 'NYS_Municipal_Boundaries']\n"
     ]
    }
   ],
   "source": [
    "# Rename columns\n",
    "result.rename(columns={\n",
    "    9:'License_Number',\n",
    "    10:'Operation_Type',\n",
    "    11:'Establishment_Type',\n",
    "    12:'Entity_Name',\n",
    "    13:'DBA_Name',\n",
    "    14:'Street_Number',\n",
    "    15:'Street_Name',\n",
    "    16:'Address_Line_2',\n",
    "    17:'Address_Line_3',\n",
    "    18:'City',\n",
    "    19:'State',\n",
    "    20:'Zip_Code',\n",
    "    21:'Square_Footage',\n",
    "    22:'Georeference',\n",
    "    23:'NYS_Municipal_Boundaries'\n",
    "}, inplace=True)\n",
    "\n",
    "column_names = list(result.columns.values)\n",
    "\n",
    "print(column_names)"
   ]
  },
  {
   "cell_type": "markdown",
   "id": "c21e1315",
   "metadata": {},
   "source": [
    "# Create cassandra session"
   ]
  },
  {
   "cell_type": "code",
   "execution_count": 5,
   "id": "e1c4e304",
   "metadata": {},
   "outputs": [],
   "source": [
    "from cassandra.cluster import Cluster\n",
    "from cassandra.policies import DCAwareRoundRobinPolicy\n",
    "from cassandra.auth import PlainTextAuthProvider\n",
    "\n",
    "#uth_provider = PlainTextAuthProvider(username='cassandra', password='password')\n",
    "#cluster = Cluster(['127.0.0.1'], load_balancing_policy=DCAwareRoundRobinPolicy(local_dc='US-WEST'), port=9042, auth_provider=auth_provider)\n",
    "auth_provider = PlainTextAuthProvider(username='Test', password='Test@4321')\n",
    "# Connect to the Cassandra cluster\n",
    "cluster = Cluster(['127.0.0.1'], port=9042, auth_provider=auth_provider)\n",
    "session = cluster.connect('dapdb')\n"
   ]
  },
  {
   "cell_type": "code",
   "execution_count": 6,
   "id": "b82d45bf",
   "metadata": {},
   "outputs": [
    {
     "data": {
      "text/plain": [
       "<cassandra.cluster.ResultSet at 0x21ac25c0d30>"
      ]
     },
     "execution_count": 6,
     "metadata": {},
     "output_type": "execute_result"
    }
   ],
   "source": [
    "delete_stmnt = session.prepare('DROP TABLE IF EXISTS dapdb.retail_food_stores')\n",
    "session.execute(delete_stmnt)"
   ]
  },
  {
   "cell_type": "markdown",
   "id": "309eae1e",
   "metadata": {},
   "source": [
    "# Create table of Retail_Food_Stores"
   ]
  },
  {
   "cell_type": "code",
   "execution_count": 7,
   "id": "816d7727",
   "metadata": {},
   "outputs": [],
   "source": [
    "create_statement = session.prepare('''CREATE TABLE Retail_Food_Stores (id varchar PRIMARY KEY,County varchar,License_Number varchar,Operation_Type varchar,Establishment_Type varchar,Entity_Name varchar,DBA_Name varchar,Street_Number varchar,Street_Name varchar,Address_Line_2 varchar,Address_Line_3 varchar,City varchar,State varchar,Zip_Code varchar,Square_Footage varchar,Georeference varchar,NYS_Municipal_Boundaries varchar)''')"
   ]
  },
  {
   "cell_type": "code",
   "execution_count": 8,
   "id": "40ac0786",
   "metadata": {},
   "outputs": [
    {
     "data": {
      "text/plain": [
       "<cassandra.cluster.ResultSet at 0x21ac2527f40>"
      ]
     },
     "execution_count": 8,
     "metadata": {},
     "output_type": "execute_result"
    }
   ],
   "source": [
    "session.execute(create_statement)\n"
   ]
  },
  {
   "cell_type": "code",
   "execution_count": 9,
   "id": "553cdc57",
   "metadata": {
    "scrolled": true
   },
   "outputs": [],
   "source": [
    "insert_statement = session.prepare('''INSERT INTO retail_food_stores (id,County, License_Number, Operation_Type, Establishment_Type, Entity_Name, DBA_Name, Street_Number, Street_Name, Address_Line_2, Address_Line_3, City, State, Zip_Code, Square_Footage, Georeference, NYS_Municipal_Boundaries) VALUES (?,?,?,?,?,?,?,?,?,?,?,?,?,?,?,?,?)''')"
   ]
  },
  {
   "cell_type": "code",
   "execution_count": 10,
   "id": "0b32b254",
   "metadata": {},
   "outputs": [],
   "source": [
    "for _, row in result.iterrows():\n",
    "    session.execute(insert_statement, [row['id'],row['County'],row['License_Number'],row['Operation_Type'],row['Establishment_Type'],row['Entity_Name'],row['DBA_Name'],row['Street_Number'],row['Street_Name'],row['Address_Line_2'],row['Address_Line_3'],row['City'],row['State'],row['Zip_Code'],row['Square_Footage'],row['Georeference'],row['NYS_Municipal_Boundaries']])"
   ]
  },
  {
   "cell_type": "markdown",
   "id": "86b60ea7",
   "metadata": {},
   "source": [
    "# Farmers_Markets_in_New_York_State.json"
   ]
  },
  {
   "cell_type": "code",
   "execution_count": 11,
   "id": "db1697a9",
   "metadata": {},
   "outputs": [
    {
     "name": "stdout",
     "output_type": "stream",
     "text": [
      "   view  temp                   0                                     1  2  \\\n",
      "0   NaN     1  row-8bvy~av76~b29y  00000000-0000-0000-28E0-E06AD96EE2A7  0   \n",
      "1   NaN     1  row-s6nz~k9hb_cy4t  00000000-0000-0000-A626-382A53B00DBE  0   \n",
      "2   NaN     1  row-3rrp_2m92-gba2  00000000-0000-0000-3EC6-E88B89C60758  0   \n",
      "3   NaN     1  row-tvpw.ird8-ib3y  00000000-0000-0000-CF90-47907C6B0A6A  0   \n",
      "4   NaN     1  row-aeje_yd3e.62nv  00000000-0000-0000-F62C-A22FDBBC23B5  0   \n",
      "\n",
      "            3     4           5     6    7  ...  \\\n",
      "0  1680644578  None  1680644578  None  { }  ...   \n",
      "1  1680644578  None  1680644578  None  { }  ...   \n",
      "2  1680644578  None  1680644578  None  { }  ...   \n",
      "3  1680644578  None  1680644578  None  { }  ...   \n",
      "4  1680644578  None  1680644578  None  { }  ...   \n",
      "\n",
      "                                            18                   19     20 21  \\\n",
      "0  Mon-Fri 10am-5pm, Sat 10a-4p  Sun 10a-4:30p   June 1-December 23      M  Y   \n",
      "1                                  Sat 9am-1pm    May 6-December 23  P/M/X  Y   \n",
      "2                                 Wed 10am-2pm           Year-round     YR  N   \n",
      "3                                  Sat 9am-1pm  May 14-September 24    P/M  N   \n",
      "4                 Mon-Sat 9am-6pm, Sun 9am-4pm           Year-round     YR  N   \n",
      "\n",
      "  22 23 24        25         26                          27  \n",
      "0  N  N  Y  42.72256  -74.01493  POINT (-74.01493 42.72256)  \n",
      "1  N  N  Y  42.60116     -73.84     POINT (-73.84 42.60116)  \n",
      "2  Y  N  Y  42.65068    -73.758    POINT (-73.758 42.65068)  \n",
      "3  N  N  Y  42.71016  -73.78029  POINT (-73.78029 42.71016)  \n",
      "4  N  N  Y  42.71055  -73.92593  POINT (-73.92593 42.71055)  \n",
      "\n",
      "[5 rows x 30 columns]\n"
     ]
    }
   ],
   "source": [
    "import json\n",
    "import pandas as pd\n",
    "\n",
    "# load the JSON file as a dictionary\n",
    "with open('Farmers_Markets_in_New_York_State.json', 'r', encoding='utf-8') as file:\n",
    "    farmer_data = json.load(file)\n",
    "\n",
    "# extract the metadata and store it in a dataframe\n",
    "farmer_metadata = pd.DataFrame(farmer_data['meta'], index=[0])\n",
    "\n",
    "farmer_metadata['temp'] = 1\n",
    "# extract the data and store it in a dataframe\n",
    "df_farmer = pd.DataFrame(farmer_data['data'])\n",
    "\n",
    "df_farmer['temp'] = 1\n",
    "# merge the metadata dataframe with the data dataframe\n",
    "farmer_result = pd.merge(farmer_metadata, df_farmer, on='temp')\n",
    "\n",
    "# display the resulting dataframe\n",
    "print(farmer_result.head())"
   ]
  },
  {
   "cell_type": "code",
   "execution_count": 12,
   "id": "8ef258e8",
   "metadata": {},
   "outputs": [
    {
     "name": "stdout",
     "output_type": "stream",
     "text": [
      "['view', 'temp', 0, 1, 2, 3, 4, 5, 6, 7, 8, 9, 10, 11, 12, 13, 14, 15, 16, 17, 18, 19, 20, 21, 22, 23, 24, 25, 26, 27]\n"
     ]
    }
   ],
   "source": [
    "farmer_result_column_names = list(farmer_result.columns.values)\n",
    "\n",
    "print(farmer_result_column_names)"
   ]
  },
  {
   "cell_type": "code",
   "execution_count": 13,
   "id": "81054257",
   "metadata": {},
   "outputs": [
    {
     "name": "stdout",
     "output_type": "stream",
     "text": [
      "['view', 'temp', 'sid', 'id', 'position', 'created_at', 'created_meta', 'updated_at', 'updated_meta', 'meta_data', 'County', 9, 10, 11, 12, 13, 14, 15, 16, 17, 18, 19, 20, 21, 22, 23, 24, 25, 26, 27]\n"
     ]
    }
   ],
   "source": [
    "# Rename columns\n",
    "farmer_result.rename(columns={\n",
    "    'view': 'view',\n",
    "    'temp': 'temp',\n",
    "    0: 'sid',\n",
    "    1: 'id',\n",
    "    2: 'position',\n",
    "    3: 'created_at',\n",
    "    4: 'created_meta',\n",
    "    5:'updated_at',\n",
    "    6:'updated_meta',\n",
    "    7:'meta_data',\n",
    "    8:'County',\n",
    "}, inplace=True)\n",
    "\n",
    "farmer_result_column_names = list(farmer_result.columns.values)\n",
    "\n",
    "print(farmer_result_column_names)"
   ]
  },
  {
   "cell_type": "code",
   "execution_count": 14,
   "id": "c727ebab",
   "metadata": {},
   "outputs": [
    {
     "name": "stdout",
     "output_type": "stream",
     "text": [
      "['view', 'temp', 'sid', 'id', 'position', 'created_at', 'created_meta', 'updated_at', 'updated_meta', 'meta_data', 'County', 'Market_Name', 'Market_Location', 'Address_Line_1', 'City', 'State', 'Zip', 'Contact', 'Phone', 'Market_Link', 'Operation_Hours', 'Operation_Season', 'Operating_Months', 'FMNP', 'SNAP', 'FCC_Issued', 'FCC_Accepted', 'Latitude', 'Longitude', 'Georeference_1']\n"
     ]
    }
   ],
   "source": [
    "# Rename columns\n",
    "farmer_result.rename(columns={\n",
    "    9:'Market_Name',\n",
    "    10:'Market_Location',\n",
    "    11:'Address_Line_1',\n",
    "    12:'City',\n",
    "    13:'State',\n",
    "    14:'Zip',\n",
    "    15:'Contact',\n",
    "    16:'Phone',\n",
    "    17:'Market_Link',\n",
    "    18:'Operation_Hours',\n",
    "    19:'Operation_Season',\n",
    "    20:'Operating_Months',\n",
    "    21:'FMNP',\n",
    "    22:'SNAP',\n",
    "    23:'FCC_Issued',\n",
    "    24:'FCC_Accepted',\n",
    "    25:'Latitude',\n",
    "    26:'Longitude',\n",
    "    27:'Georeference_1'\n",
    "}, inplace=True)\n",
    "\n",
    "farmer_result_column_names = list(farmer_result.columns.values)\n",
    "\n",
    "print(farmer_result_column_names)"
   ]
  },
  {
   "cell_type": "code",
   "execution_count": 15,
   "id": "8db0b733",
   "metadata": {},
   "outputs": [
    {
     "data": {
      "text/plain": [
       "<cassandra.cluster.ResultSet at 0x21ac03abee0>"
      ]
     },
     "execution_count": 15,
     "metadata": {},
     "output_type": "execute_result"
    }
   ],
   "source": [
    "delete_stmnt = session.prepare('DROP TABLE IF EXISTS dapdb.Farmer_Market_NYC')\n",
    "session.execute(delete_stmnt)"
   ]
  },
  {
   "cell_type": "code",
   "execution_count": 16,
   "id": "799bcfee",
   "metadata": {},
   "outputs": [],
   "source": [
    "create_statement = session.prepare('''CREATE TABLE Farmer_Market_NYC (id varchar PRIMARY KEY,County varchar,Market_Name varchar,Market_Location varchar,Address_Line_1 varchar,City varchar,State varchar,Zip varchar,Contact varchar,Phone varchar,Operation_Hours varchar,Operation_Season varchar,Operating_Months varchar,FMNP varchar,SNAP varchar,FCC_Issued varchar, FCC_Accepted varchar,Latitude varchar,Longitude varchar,Georeference_1 varchar)''')"
   ]
  },
  {
   "cell_type": "code",
   "execution_count": 17,
   "id": "b047ba8b",
   "metadata": {},
   "outputs": [
    {
     "data": {
      "text/plain": [
       "<cassandra.cluster.ResultSet at 0x21ac25bd2e0>"
      ]
     },
     "execution_count": 17,
     "metadata": {},
     "output_type": "execute_result"
    }
   ],
   "source": [
    "session.execute(create_statement)"
   ]
  },
  {
   "cell_type": "code",
   "execution_count": 18,
   "id": "51a5833f",
   "metadata": {},
   "outputs": [
    {
     "data": {
      "text/plain": [
       "view                  0\n",
       "temp                405\n",
       "sid                 405\n",
       "id                  405\n",
       "position            405\n",
       "created_at          405\n",
       "created_meta          0\n",
       "updated_at          405\n",
       "updated_meta          0\n",
       "meta_data           405\n",
       "County              405\n",
       "Market_Name         405\n",
       "Market_Location     405\n",
       "Address_Line_1      405\n",
       "City                405\n",
       "State               405\n",
       "Zip                 405\n",
       "Contact             405\n",
       "Phone               403\n",
       "Market_Link         308\n",
       "Operation_Hours     405\n",
       "Operation_Season    405\n",
       "Operating_Months    405\n",
       "FMNP                405\n",
       "SNAP                405\n",
       "FCC_Issued          405\n",
       "FCC_Accepted        405\n",
       "Latitude            405\n",
       "Longitude           405\n",
       "Georeference_1      405\n",
       "dtype: int64"
      ]
     },
     "execution_count": 18,
     "metadata": {},
     "output_type": "execute_result"
    }
   ],
   "source": [
    "insert_statement = session.prepare('''INSERT INTO Farmer_Market_NYC (id,County, Market_Name, Market_Location, Address_Line_1, City, State, Zip, Contact, Phone, Operation_Hours, Operation_Season, Operating_Months, FMNP, SNAP, FCC_Issued, FCC_Accepted, Latitude, Longitude, Georeference_1) VALUES (?,?,?,?,?,?,?,?,?,?,?,?,?,?,?,?,?,?,?,?)''')\n",
    "farmer_result.count()"
   ]
  },
  {
   "cell_type": "code",
   "execution_count": 19,
   "id": "e52bb94a",
   "metadata": {},
   "outputs": [],
   "source": [
    "for _, row in farmer_result.iterrows():\n",
    "    session.execute(insert_statement, [row['id'],row['County'],row['Market_Name'],row['Market_Location'],row['Address_Line_1'],row['City'],row['State'],row['Zip'],row['Contact'],row['Phone'],row['Operation_Hours'],row['Operation_Season'],row['Operating_Months'],row['FMNP'],row['SNAP'],row['FCC_Issued'],row['FCC_Accepted'],row['Latitude'],row['Longitude'],row['Georeference_1']])"
   ]
  },
  {
   "cell_type": "code",
   "execution_count": null,
   "id": "00b3f7d4",
   "metadata": {},
   "outputs": [],
   "source": []
  },
  {
   "cell_type": "code",
   "execution_count": null,
   "id": "98e4fdf5",
   "metadata": {},
   "outputs": [],
   "source": []
  }
 ],
 "metadata": {
  "kernelspec": {
   "display_name": "Python 3 (ipykernel)",
   "language": "python",
   "name": "python3"
  },
  "language_info": {
   "codemirror_mode": {
    "name": "ipython",
    "version": 3
   },
   "file_extension": ".py",
   "mimetype": "text/x-python",
   "name": "python",
   "nbconvert_exporter": "python",
   "pygments_lexer": "ipython3",
   "version": "3.9.13"
  }
 },
 "nbformat": 4,
 "nbformat_minor": 5
}

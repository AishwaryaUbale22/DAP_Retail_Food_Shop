{
 "cells": [
  {
   "cell_type": "markdown",
   "id": "69c8c3ae",
   "metadata": {},
   "source": [
    "## Demo file"
   ]
  },
  {
   "cell_type": "code",
   "execution_count": 1,
   "id": "64a86812",
   "metadata": {},
   "outputs": [
    {
     "name": "stdout",
     "output_type": "stream",
     "text": [
      "Testing whether the github enviornment is working or not...\n"
     ]
    }
   ],
   "source": [
    "print(\"Testing whether the github enviornment is working or not...\")"
   ]
  },
  {
   "cell_type": "code",
   "execution_count": null,
   "id": "f518b255",
   "metadata": {},
   "outputs": [],
   "source": []
  }
 ],
 "metadata": {
  "kernelspec": {
   "display_name": "Python 3 (ipykernel)",
   "language": "python",
   "name": "python3"
  },
  "language_info": {
   "codemirror_mode": {
    "name": "ipython",
    "version": 3
   },
   "file_extension": ".py",
   "mimetype": "text/x-python",
   "name": "python",
   "nbconvert_exporter": "python",
   "pygments_lexer": "ipython3",
   "version": "3.9.13"
  }
 },
 "nbformat": 4,
 "nbformat_minor": 5
}
